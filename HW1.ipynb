{
 "cells": [
  {
   "cell_type": "markdown",
   "metadata": {},
   "source": [
    "# Genre Classification using Support-vector Machine"
   ]
  },
  {
   "cell_type": "code",
   "execution_count": 1,
   "metadata": {},
   "outputs": [],
   "source": [
    "import numpy as np\n",
    "import librosa\n",
    "import os\n",
    "import matplotlib.pyplot as plt\n",
    "import sklearn.svm #containts the class that implements the machine to analyze music\n",
    "import IPython.display as ipd\n",
    "import scipy as sp"
   ]
  },
  {
   "cell_type": "markdown",
   "metadata": {},
   "source": [
    "# Feature computation"
   ]
  },
  {
   "cell_type": "code",
   "execution_count": 2,
   "metadata": {},
   "outputs": [],
   "source": [
    "#we skip the preliminary elaboration of the signal \n",
    "def compute_mfcc(audio, fs, n_mfcc):\n",
    "    # Compute the spectrogram of the audio signal. We take the magnitude od the signal, windowing it\n",
    "    X = np.abs(librosa.stft(\n",
    "        audio,\n",
    "        window='hamming',\n",
    "        n_fft=1024, #number of points in which fft will be done in window.\n",
    "        hop_length=512,)\n",
    "        )\n",
    "    \n",
    "    # Find the weights of the mel filters (in librosa) we must specify: the original f of the signal, what are the points used for \n",
    "    #STFF (Short Transfer Fourier Function), how many rectangular filters we want and Min and Max Frequency of the filter. \n",
    "    mel = librosa.filters.mel(\n",
    "        sr=fs,\n",
    "        n_fft=1024,\n",
    "        n_mels=40,\n",
    "        fmin=133.33, #in hz, we decide it. those values are pretty standard\n",
    "        fmax=6853.8,\n",
    "    )\n",
    "    \n",
    "    # Apply the filters to spectrogram\n",
    "    melspectrogram = np.dot(mel, X)\n",
    "    # Take the logarithm\n",
    "    log_melspectrogram = np.log10(melspectrogram + 1e-16) #we added 1e-16 just to avoid log(0) but is an inignificant value.\n",
    "    \n",
    "    # Apply the DCT to log melspectrogram to obtain the coefficients\n",
    "    mfcc = sp.fftpack.dct(log_melspectrogram, axis=0, norm='ortho')[1:n_mfcc+1]\n",
    "    return mfcc"
   ]
  },
  {
   "cell_type": "markdown",
   "metadata": {},
   "source": [
    "### Compute training features"
   ]
  },
  {
   "cell_type": "code",
   "execution_count": 3,
   "metadata": {},
   "outputs": [
    {
     "name": "stdout",
     "output_type": "stream",
     "text": [
      "Sto analizzando rock\n"
     ]
    },
    {
     "name": "stderr",
     "output_type": "stream",
     "text": [
      "C:\\Users\\metal\\.conda\\envs\\CMLS\\lib\\site-packages\\librosa\\core\\audio.py:162: UserWarning: PySoundFile failed. Trying audioread instead.\n",
      "  warnings.warn(\"PySoundFile failed. Trying audioread instead.\")\n"
     ]
    },
    {
     "name": "stdout",
     "output_type": "stream",
     "text": [
      "rock.00000.mp3\n",
      "rock.00001.mp3\n",
      "rock.00002.mp3\n",
      "rock.00003.mp3\n",
      "rock.00004.mp3\n",
      "rock.00005.mp3\n",
      "rock.00006.mp3\n",
      "rock.00007.mp3\n",
      "rock.00008.mp3\n",
      "rock.00009.mp3\n",
      "rock.00010.mp3\n",
      "rock.00011.mp3\n",
      "rock.00012.mp3\n",
      "rock.00013.mp3\n",
      "rock.00014.mp3\n",
      "rock.00015.mp3\n",
      "rock.00016.mp3\n",
      "rock.00017.mp3\n",
      "rock.00018.mp3\n",
      "rock.00019.mp3\n",
      "Sto analizzando pop\n",
      "pop.00000.mp3\n",
      "pop.00001.mp3\n",
      "pop.00002.mp3\n",
      "pop.00003.mp3\n",
      "pop.00004.mp3\n",
      "pop.00005.mp3\n",
      "pop.00006.mp3\n",
      "pop.00007.mp3\n",
      "pop.00008.mp3\n",
      "pop.00009.mp3\n",
      "pop.00010.mp3\n",
      "pop.00011.mp3\n",
      "pop.00012.mp3\n",
      "pop.00013.mp3\n",
      "pop.00014.mp3\n",
      "pop.00015.mp3\n",
      "pop.00016.mp3\n",
      "pop.00017.mp3\n",
      "pop.00018.mp3\n",
      "pop.00019.mp3\n",
      "Sto analizzando reggae\n",
      "reggae.00000.mp3\n",
      "reggae.00001.mp3\n",
      "reggae.00002.mp3\n",
      "reggae.00003.mp3\n",
      "reggae.00004.mp3\n",
      "reggae.00005.mp3\n",
      "reggae.00006.mp3\n",
      "reggae.00007.mp3\n",
      "reggae.00008.mp3\n",
      "reggae.00009.mp3\n",
      "reggae.00010.mp3\n",
      "reggae.00011.mp3\n",
      "reggae.00012.mp3\n",
      "reggae.00013.mp3\n",
      "reggae.00014.mp3\n",
      "reggae.00015.mp3\n",
      "reggae.00016.mp3\n",
      "reggae.00017.mp3\n",
      "reggae.00018.mp3\n",
      "reggae.00019.mp3\n",
      "Sto analizzando disco\n",
      "disco.00000.mp3\n",
      "disco.00001.mp3\n",
      "disco.00002.mp3\n",
      "disco.00003.mp3\n",
      "disco.00004.mp3\n",
      "disco.00005.mp3\n",
      "disco.00006.mp3\n",
      "disco.00007.mp3\n",
      "disco.00008.mp3\n",
      "disco.00009.mp3\n",
      "disco.00010.mp3\n",
      "disco.00011.mp3\n",
      "disco.00012.mp3\n",
      "disco.00013.mp3\n",
      "disco.00014.mp3\n",
      "disco.00015.mp3\n",
      "disco.00016.mp3\n",
      "disco.00017.mp3\n",
      "disco.00018.mp3\n",
      "disco.00019.mp3\n"
     ]
    }
   ],
   "source": [
    "classes = ['rock', 'pop', 'reggae','disco'] #now I wanna train my algorithm.\n",
    "n_mfcc = 13\n",
    "dict_train_features = {'rock': [], 'pop': [], 'reggae': [], 'disco': []}\n",
    "\n",
    "for c in classes:\n",
    "    print(\"Sto analizzando \" + '{}'.format(c))\n",
    "    train_root = 'D:/Documenti/SampleCanzoni/PreProcessed/Selected/{}/train/'.format(c)\n",
    "    class_train_files = [f for f in os.listdir(train_root) if f.endswith('.mp3')] #all files .mp3\n",
    "    n_train_samples = len(class_train_files)\n",
    "    \n",
    "    \n",
    "    \n",
    "    train_features = np.zeros((n_train_samples, n_mfcc)) #we initialize the metrics. i'm going to use this feature for the machine.\n",
    "    for index, f in enumerate(class_train_files):\n",
    "        audio, fs = librosa.load(os.path.join(train_root, f), sr=None) #first is the directory, the second f is the file\n",
    "        mfcc = compute_mfcc(audio, fs, n_mfcc) #now I've a matrix of features.\n",
    "        train_features[index, :] = np.mean(mfcc, axis=1)\n",
    "        print(f)   \n",
    "    \n",
    "        \n",
    "    dict_train_features[c] = train_features #now we use a dictionary structure to save all features (is a sort of struct)"
   ]
  },
  {
   "cell_type": "code",
   "execution_count": 4,
   "metadata": {},
   "outputs": [
    {
     "data": {
      "text/plain": [
       "['disco.00000.mp3',\n",
       " 'disco.00001.mp3',\n",
       " 'disco.00002.mp3',\n",
       " 'disco.00003.mp3',\n",
       " 'disco.00004.mp3',\n",
       " 'disco.00005.mp3',\n",
       " 'disco.00006.mp3',\n",
       " 'disco.00007.mp3',\n",
       " 'disco.00008.mp3',\n",
       " 'disco.00009.mp3',\n",
       " 'disco.00010.mp3',\n",
       " 'disco.00011.mp3',\n",
       " 'disco.00012.mp3',\n",
       " 'disco.00013.mp3',\n",
       " 'disco.00014.mp3',\n",
       " 'disco.00015.mp3',\n",
       " 'disco.00016.mp3',\n",
       " 'disco.00017.mp3',\n",
       " 'disco.00018.mp3',\n",
       " 'disco.00019.mp3']"
      ]
     },
     "execution_count": 4,
     "metadata": {},
     "output_type": "execute_result"
    }
   ],
   "source": [
    "class_train_files"
   ]
  },
  {
   "cell_type": "markdown",
   "metadata": {},
   "source": [
    "### Compute test features"
   ]
  },
  {
   "cell_type": "code",
   "execution_count": 5,
   "metadata": {},
   "outputs": [],
   "source": [
    "#the syntax for test files is pretty the same. \n",
    "dict_test_features = {'rock': [], 'pop': [], 'reggae': [], 'disco': []}\n",
    "\n",
    "for c in classes:\n",
    "    test_root = 'D:/Documenti/SampleCanzoni/PreProcessed/Selected/{}/test/'.format(c)\n",
    "    class_test_files = [f for f in os.listdir(test_root) if f.endswith('.mp3')]\n",
    "    n_test_samples = len(class_test_files)\n",
    "    \n",
    "    test_features = np.zeros((n_test_samples, n_mfcc))\n",
    "    for index, f in enumerate(class_test_files):\n",
    "        audio, fs = librosa.load(os.path.join(test_root, f), sr=None)\n",
    "        mfcc = compute_mfcc(audio, fs, n_mfcc)\n",
    "        test_features[index, :] = np.mean(mfcc, axis=1)\n",
    "    dict_test_features[c] = test_features"
   ]
  },
  {
   "cell_type": "markdown",
   "metadata": {},
   "source": [
    "### Feature visualization"
   ]
  },
  {
   "cell_type": "code",
   "execution_count": 6,
   "metadata": {
    "scrolled": false
   },
   "outputs": [
    {
     "data": {
      "image/png": "[encoded data removed]",
      "text/plain": [
       "<Figure size 1152x432 with 3 Axes>"
      ]
     },
     "metadata": {
      "needs_background": "light"
     },
     "output_type": "display_data"
    },
    {
     "data": {
      "image/png": "[encoded data removed]",
      "text/plain": [
       "<Figure size 1152x432 with 3 Axes>"
      ]
     },
     "metadata": {
      "needs_background": "light"
     },
     "output_type": "display_data"
    },
    {
     "data": {
      "image/png": "[encoded data removed]",
      "text/plain": [
       "<Figure size 1152x432 with 3 Axes>"
      ]
     },
     "metadata": {
      "needs_background": "light"
     },
     "output_type": "display_data"
    },
    {
     "data": {
      "image/png": "[encoded data removed]",
      "text/plain": [
       "<Figure size 1152x432 with 3 Axes>"
      ]
     },
     "metadata": {
      "needs_background": "light"
     },
     "output_type": "display_data"
    }
   ],
   "source": [
    "for c in classes:\n",
    "    mfcc = dict_train_features[c].transpose()\n",
    "    # Visualization\n",
    "    fig = plt.figure(figsize=(16, 6))\n",
    "    plt.subplot(1,2,1)\n",
    "    plt.imshow(mfcc, origin='lower', aspect='auto')\n",
    "    plt.xlabel('Training samples')\n",
    "    plt.ylabel('MFCC coefficients')\n",
    "    plt.title('MFCC (coefficients 0 to 13) for class {}'.format(c))\n",
    "    plt.colorbar()\n",
    "    plt.tight_layout()\n",
    "\n",
    "    mfcc_upper = mfcc[4:]\n",
    "    plt.subplot(1,2,2)\n",
    "    plt.imshow(mfcc_upper, origin='lower', aspect='auto')\n",
    "    plt.title('MFCC (coefficients 4 to 13) for class {}'.format(c))\n",
    "    plt.xlabel('Training samples')\n",
    "    plt.ylabel('MFCC coefficients')\n",
    "    plt.colorbar()\n",
    "    plt.tight_layout()"
   ]
  },
  {
   "cell_type": "markdown",
   "metadata": {},
   "source": [
    "# SVM: multiclass case"
   ]
  },
  {
   "cell_type": "code",
   "execution_count": 7,
   "metadata": {},
   "outputs": [],
   "source": [
    "class_0 = 'rock'\n",
    "class_1 = 'pop'\n",
    "class_2 = 'reggae'\n",
    "class_3 = 'disco'\n",
    "\n",
    "X_train_0 = dict_train_features[class_0]\n",
    "X_train_1 = dict_train_features[class_1]\n",
    "X_train_2 = dict_train_features[class_2]\n",
    "X_train_3 = dict_train_features[class_3]\n",
    "\n",
    "y_train_0 = np.zeros((X_train_0.shape[0],))\n",
    "y_train_1 = np.ones((X_train_1.shape[0],))\n",
    "y_train_2 = np.ones((X_train_2.shape[0],))*2\n",
    "y_train_3 = np.ones((X_train_3.shape[0],))*3\n",
    "\n",
    "#y_train = np.concatenate((y_train_class_0, y_train_class_1, y_train_class_1), axis=0) \n"
   ]
  },
  {
   "cell_type": "code",
   "execution_count": 8,
   "metadata": {},
   "outputs": [],
   "source": [
    "X_test_0 = dict_test_features[class_0]\n",
    "X_test_1 = dict_test_features[class_1]\n",
    "X_test_2 = dict_test_features[class_2]\n",
    "X_test_3 = dict_test_features[class_3]\n",
    "\n",
    "\n",
    "y_test_0 = np.zeros((X_test_0.shape[0],))\n",
    "y_test_1 = np.ones((X_test_1.shape[0],))\n",
    "y_test_2 = np.ones((X_test_2.shape[0],))*2\n",
    "y_test_3 = np.ones((X_test_1.shape[0],))*3\n",
    "\n",
    "y_test_mc = np.concatenate((y_test_0, y_test_1, y_test_2, y_test_3), axis=0)\n"
   ]
  },
  {
   "cell_type": "code",
   "execution_count": null,
   "metadata": {},
   "outputs": [],
   "source": []
  },
  {
   "cell_type": "markdown",
   "metadata": {},
   "source": [
    "### Normalize features"
   ]
  },
  {
   "cell_type": "code",
   "execution_count": 9,
   "metadata": {},
   "outputs": [],
   "source": [
    "feat_max = np.max(np.concatenate((X_train_0, X_train_1, X_train_2, X_train_3), axis=0), axis=0)\n",
    "feat_min = np.min(np.concatenate((X_train_0, X_train_1, X_train_2, X_train_3), axis=0), axis=0)\n",
    "\n",
    "X_train_0_normalized = (X_train_0 - feat_min) / (feat_max - feat_min)\n",
    "X_train_1_normalized = (X_train_1 - feat_min) / (feat_max - feat_min)\n",
    "X_train_2_normalized = (X_train_2 - feat_min) / (feat_max - feat_min)\n",
    "X_train_3_normalized = (X_train_3 - feat_min) / (feat_max - feat_min)\n",
    "\n",
    "X_test_0_normalized = (X_test_0 - feat_min) / (feat_max - feat_min)\n",
    "X_test_1_normalized = (X_test_1 - feat_min) / (feat_max - feat_min)\n",
    "X_test_2_normalized = (X_test_2 - feat_min) / (feat_max - feat_min) #we concatenate to obtain max/min\n",
    "X_test_3_normalized = (X_test_3 - feat_min) / (feat_max - feat_min)\n",
    "\n",
    "X_test_mc_normalized = np.concatenate((X_test_0_normalized, X_test_1_normalized, X_test_2_normalized, X_test_3_normalized), axis=0)\n"
   ]
  },
  {
   "cell_type": "markdown",
   "metadata": {},
   "source": [
    "### Define and train a model for each couple of classes"
   ]
  },
  {
   "cell_type": "code",
   "execution_count": 10,
   "metadata": {},
   "outputs": [],
   "source": [
    "SVM_parameters={\n",
    "    'C': 1,\n",
    "    'kernel': 'rbf',\n",
    "}\n",
    "\n",
    "clf_01 = sklearn.svm.SVC(**SVM_parameters, probability=True)\n",
    "clf_02 = sklearn.svm.SVC(**SVM_parameters, probability=True)\n",
    "clf_03 = sklearn.svm.SVC(**SVM_parameters, probability=True)\n",
    "\n",
    "clf_12 = sklearn.svm.SVC(**SVM_parameters, probability=True)\n",
    "clf_13 = sklearn.svm.SVC(**SVM_parameters, probability=True)\n",
    "\n",
    "clf_23 = sklearn.svm.SVC(**SVM_parameters, probability=True)\n"
   ]
  },
  {
   "cell_type": "code",
   "execution_count": 11,
   "metadata": {},
   "outputs": [
    {
     "data": {
      "text/plain": [
       "SVC(C=1, probability=True)"
      ]
     },
     "execution_count": 11,
     "metadata": {},
     "output_type": "execute_result"
    }
   ],
   "source": [
    "clf_01.fit(np.concatenate((X_train_0_normalized, X_train_1_normalized), axis=0), \n",
    "           np.concatenate((y_train_0, y_train_1), axis=0))\n",
    "           \n",
    "clf_02.fit(np.concatenate((X_train_0_normalized, X_train_2_normalized), axis=0), \n",
    "           np.concatenate((y_train_0, y_train_2), axis=0))\n",
    "\n",
    "clf_03.fit(np.concatenate((X_train_0_normalized, X_train_3_normalized), axis=0), \n",
    "           np.concatenate((y_train_0, y_train_3), axis=0))\n",
    "\n",
    "\n",
    "clf_12.fit(np.concatenate((X_train_1_normalized, X_train_2_normalized), axis=0), \n",
    "           np.concatenate((y_train_1, y_train_2), axis=0)) \n",
    "\n",
    "clf_13.fit(np.concatenate((X_train_1_normalized, X_train_3_normalized), axis=0), \n",
    "           np.concatenate((y_train_1, y_train_3), axis=0)) \n",
    "\n",
    "\n",
    "clf_23.fit(np.concatenate((X_train_2_normalized, X_train_3_normalized), axis=0), \n",
    "           np.concatenate((y_train_2, y_train_3), axis=0)) \n",
    "#now we have a tree of model."
   ]
  },
  {
   "cell_type": "markdown",
   "metadata": {},
   "source": [
    "### Evaluate each classifier"
   ]
  },
  {
   "cell_type": "code",
   "execution_count": 12,
   "metadata": {},
   "outputs": [],
   "source": [
    "#now we predict test on label. They're all binary classifiers. We have 3 prediction and we must extract the most present.\n",
    "y_test_predicted_01 = clf_01.predict(X_test_mc_normalized).reshape(-1, 1)\n",
    "y_test_predicted_02 = clf_02.predict(X_test_mc_normalized).reshape(-1, 1)\n",
    "y_test_predicted_03 = clf_03.predict(X_test_mc_normalized).reshape(-1, 1)\n",
    "\n",
    "y_test_predicted_12 = clf_12.predict(X_test_mc_normalized).reshape(-1, 1)\n",
    "y_test_predicted_13 = clf_13.predict(X_test_mc_normalized).reshape(-1, 1)\n",
    "\n",
    "y_test_predicted_23 = clf_23.predict(X_test_mc_normalized).reshape(-1, 1)\n"
   ]
  },
  {
   "cell_type": "code",
   "execution_count": null,
   "metadata": {},
   "outputs": [],
   "source": []
  },
  {
   "cell_type": "markdown",
   "metadata": {},
   "source": [
    "### Majority voting"
   ]
  },
  {
   "cell_type": "code",
   "execution_count": 13,
   "metadata": {},
   "outputs": [],
   "source": [
    "y_test_predicted_mc = np.concatenate((y_test_predicted_01, y_test_predicted_02, y_test_predicted_03, y_test_predicted_12, y_test_predicted_13, y_test_predicted_23 ), axis=1)\n",
    "y_test_predicted_mc = np.array(y_test_predicted_mc, dtype=np.int)"
   ]
  },
  {
   "cell_type": "code",
   "execution_count": 14,
   "metadata": {},
   "outputs": [],
   "source": [
    "y_test_predicted_mv = np.zeros((y_test_predicted_mc.shape[0],))\n",
    "for i, e in enumerate(y_test_predicted_mc):\n",
    "    y_test_predicted_mv[i] = np.bincount(e).argmax() "
   ]
  },
  {
   "cell_type": "code",
   "execution_count": null,
   "metadata": {},
   "outputs": [],
   "source": []
  },
  {
   "cell_type": "markdown",
   "metadata": {},
   "source": [
    "### *Exercise 3* : compute confusion matrix for multiclass"
   ]
  },
  {
   "cell_type": "code",
   "execution_count": 15,
   "metadata": {},
   "outputs": [],
   "source": [
    "#we fill the matrix for each sample\n",
    "def compute_cm_multiclass(gt, predicted):\n",
    "    classes = np.unique(gt)\n",
    "    \n",
    "    CM = np.zeros((len(classes), len(classes)))\n",
    "    \n",
    "    for i in np.arange(len(classes)):\n",
    "        pred_class = predicted[gt==i]\n",
    "        \n",
    "        for j in np.arange(len(pred_class)): #the element in position\"label\" and the element in predicted class \n",
    "            CM[i, int(pred_class[j])] = CM[i, int(pred_class[j])] + 1 \n",
    "    print(CM)"
   ]
  },
  {
   "cell_type": "code",
   "execution_count": 16,
   "metadata": {},
   "outputs": [
    {
     "ename": "IndexError",
     "evalue": "boolean index did not match indexed array along dimension 0; dimension is 260 but corresponding boolean dimension is 320",
     "output_type": "error",
     "traceback": [
      "\u001b[1;31m---------------------------------------------------------------------------\u001b[0m",
      "\u001b[1;31mIndexError\u001b[0m                                Traceback (most recent call last)",
      "\u001b[1;32m<ipython-input-16-9ac96d7d16cc>\u001b[0m in \u001b[0;36m<module>\u001b[1;34m\u001b[0m\n\u001b[1;32m----> 1\u001b[1;33m \u001b[0mcompute_cm_multiclass\u001b[0m\u001b[1;33m(\u001b[0m\u001b[0my_test_mc\u001b[0m\u001b[1;33m,\u001b[0m \u001b[0my_test_predicted_mv\u001b[0m\u001b[1;33m)\u001b[0m\u001b[1;33m\u001b[0m\u001b[1;33m\u001b[0m\u001b[0m\n\u001b[0m",
      "\u001b[1;32m<ipython-input-15-50f11fb634d8>\u001b[0m in \u001b[0;36mcompute_cm_multiclass\u001b[1;34m(gt, predicted)\u001b[0m\n\u001b[0;32m      6\u001b[0m \u001b[1;33m\u001b[0m\u001b[0m\n\u001b[0;32m      7\u001b[0m     \u001b[1;32mfor\u001b[0m \u001b[0mi\u001b[0m \u001b[1;32min\u001b[0m \u001b[0mnp\u001b[0m\u001b[1;33m.\u001b[0m\u001b[0marange\u001b[0m\u001b[1;33m(\u001b[0m\u001b[0mlen\u001b[0m\u001b[1;33m(\u001b[0m\u001b[0mclasses\u001b[0m\u001b[1;33m)\u001b[0m\u001b[1;33m)\u001b[0m\u001b[1;33m:\u001b[0m\u001b[1;33m\u001b[0m\u001b[1;33m\u001b[0m\u001b[0m\n\u001b[1;32m----> 8\u001b[1;33m         \u001b[0mpred_class\u001b[0m \u001b[1;33m=\u001b[0m \u001b[0mpredicted\u001b[0m\u001b[1;33m[\u001b[0m\u001b[0mgt\u001b[0m\u001b[1;33m==\u001b[0m\u001b[0mi\u001b[0m\u001b[1;33m]\u001b[0m\u001b[1;33m\u001b[0m\u001b[1;33m\u001b[0m\u001b[0m\n\u001b[0m\u001b[0;32m      9\u001b[0m \u001b[1;33m\u001b[0m\u001b[0m\n\u001b[0;32m     10\u001b[0m         \u001b[1;32mfor\u001b[0m \u001b[0mj\u001b[0m \u001b[1;32min\u001b[0m \u001b[0mnp\u001b[0m\u001b[1;33m.\u001b[0m\u001b[0marange\u001b[0m\u001b[1;33m(\u001b[0m\u001b[0mlen\u001b[0m\u001b[1;33m(\u001b[0m\u001b[0mpred_class\u001b[0m\u001b[1;33m)\u001b[0m\u001b[1;33m)\u001b[0m\u001b[1;33m:\u001b[0m \u001b[1;31m#the element in position\"label\" and the element in predicted class\u001b[0m\u001b[1;33m\u001b[0m\u001b[1;33m\u001b[0m\u001b[0m\n",
      "\u001b[1;31mIndexError\u001b[0m: boolean index did not match indexed array along dimension 0; dimension is 260 but corresponding boolean dimension is 320"
     ]
    }
   ],
   "source": [
    "compute_cm_multiclass(y_test_mc, y_test_predicted_mv)"
   ]
  },
  {
   "cell_type": "code",
   "execution_count": null,
   "metadata": {},
   "outputs": [],
   "source": []
  },
  {
   "cell_type": "code",
   "execution_count": null,
   "metadata": {},
   "outputs": [],
   "source": []
  },
  {
   "cell_type": "code",
   "execution_count": null,
   "metadata": {},
   "outputs": [],
   "source": []
  },
  {
   "cell_type": "code",
   "execution_count": null,
   "metadata": {},
   "outputs": [],
   "source": []
  }
 ],
 "metadata": {
  "kernelspec": {
   "display_name": "Python 3",
   "language": "python",
   "name": "python3"
  },
  "language_info": {
   "codemirror_mode": {
    "name": "ipython",
    "version": 3
   },
   "file_extension": ".py",
   "mimetype": "text/x-python",
   "name": "python",
   "nbconvert_exporter": "python",
   "pygments_lexer": "ipython3",
   "version": "3.7.10"
  }
 },
 "nbformat": 4,
 "nbformat_minor": 4
}
