{
 "cells": [
  {
   "cell_type": "markdown",
   "metadata": {},
   "source": [
    "# Genre Classification using Support-vector Machine"
   ]
  },
  {
   "cell_type": "code",
   "execution_count": 1,
   "metadata": {},
   "outputs": [],
   "source": [
    "import numpy as np\n",
    "import librosa\n",
    "import os\n",
    "import matplotlib.pyplot as plt\n",
    "import sklearn.svm #containts the class that implements the machine to analyze music\n",
    "import IPython.display as ipd\n",
    "import scipy as sp"
   ]
  },
  {
   "cell_type": "markdown",
   "metadata": {},
   "source": [
    "# Feature computation"
   ]
  },
  {
   "cell_type": "code",
   "execution_count": 2,
   "metadata": {},
   "outputs": [],
   "source": [
    "#we skip the preliminary elaboration of the signal \n",
    "def compute_mfcc(audio, fs, n_mfcc):\n",
    "    # Compute the spectrogram of the audio signal. We take the magnitude od the signal, windowing it\n",
    "    X = np.abs(librosa.stft(\n",
    "        audio,\n",
    "        window='hamming',\n",
    "        n_fft=1024, #number of points in which fft will be done in window.\n",
    "        hop_length=512,)\n",
    "        )\n",
    "    \n",
    "    # Find the weights of the mel filters (in librosa) we must specify: the original f of the signal, what are the points used for \n",
    "    #STFF (Short Transfer Fourier Function), how many rectangular filters we want and Min and Max Frequency of the filter. \n",
    "    mel = librosa.filters.mel(\n",
    "        sr=fs,\n",
    "        n_fft=1024,\n",
    "        n_mels=40,\n",
    "        fmin=133.33, #in hz, we decide it. those values are pretty standard\n",
    "        fmax=6853.8,\n",
    "    )\n",
    "    \n",
    "    # Apply the filters to spectrogram\n",
    "    melspectrogram = np.dot(mel, X)\n",
    "    # Take the logarithm\n",
    "    log_melspectrogram = np.log10(melspectrogram + 1e-16) #we added 1e-16 just to avoid log(0) but is an inignificant value.\n",
    "    \n",
    "    # Apply the DCT to log melspectrogram to obtain the coefficients\n",
    "    mfcc = sp.fftpack.dct(log_melspectrogram, axis=0, norm='ortho')[1:n_mfcc+1]\n",
    "    return mfcc #n_mfcc x no. of windows"
   ]
  },
  {
   "cell_type": "markdown",
   "metadata": {},
   "source": [
    "### Compute training features"
   ]
  },
  {
   "cell_type": "code",
   "execution_count": 3,
   "metadata": {},
   "outputs": [
    {
     "name": "stdout",
     "output_type": "stream",
     "text": [
      "Sto analizzando rock\n"
     ]
    },
    {
     "name": "stderr",
     "output_type": "stream",
     "text": [
      "C:\\Users\\Claudio\\miniconda3\\envs\\CMRM\\lib\\site-packages\\librosa\\core\\audio.py:162: UserWarning: PySoundFile failed. Trying audioread instead.\n",
      "  warnings.warn(\"PySoundFile failed. Trying audioread instead.\")\n"
     ]
    },
    {
     "name": "stdout",
     "output_type": "stream",
     "text": [
      "(20, 49)\n",
      "Sto analizzando pop\n",
      "(20, 49)\n",
      "Sto analizzando reggae\n",
      "(20, 49)\n",
      "Sto analizzando disco\n",
      "(20, 49)\n",
      "(35, 1293)\n"
     ]
    }
   ],
   "source": [
    "classes = ['rock', 'pop', 'reggae','disco'] #now I wanna train my algorithm.\n",
    "#number of values for each feature
    "n_mfcc = 35\n",
    "n_chroma = 12\n",
    "n_spec_roll = 1\n",
    "n_spec_centr = 1\n",
    "n_feat_weigths = n_mfcc + n_chroma + n_spec_roll + n_spec_centr\n",
    "dict_train_features = {'rock': [], 'pop': [], 'reggae': [], 'disco': []}\n",
    "\n",
    "for c in classes:\n",
    "    #print(\"Sto analizzando \" + '{}'.format(c))\n",
    "    train_root = 'C:/Users/Claudio/Desktop/PreProcessed/{}/training/'.format(c)\n",
    "    class_train_files = [f for f in os.listdir(train_root) if f.endswith('.mp3')]\n",
    "    n_train_samples = len(class_train_files)\n",
    "    \n",
    "    train_features = np.zeros((n_feat_weights))\n",
    "    #elaboration of all features for each song of the train set
    "    for index, f in enumerate(class_train_files):\n",
    "        audio, fs = librosa.load(os.path.join(train_root, f), sr=None)\n",
    "        mfcc = compute_mfcc(audio, fs, n_mfcc)\n",
    "        mfcc_mean = np.mean(mfcc, axis = 1)\n",
    "        chroma = librosa.feature.chroma_stft(audio, fs)\n",
    "        chroma_mean = np.mean(chroma, axis = 1)\n",
    "        spec_roll = librosa.feature.spectral_rolloff(audio, fs)\n",
    "        spec_roll_mean = np.mean(spec_roll, axis = 1)\n",
    "        spec_centr = librosa.feature.spectral_centroid(audio, fs)\n",
    "        spec_centr_mean = np.mean(spec_centr, axis = 1)\n",
    "        train_features[index, :] = np.concatenate((mfcc_mean, chroma_mean, spec_roll_mean, spec_centr_mean), axis = 0)\n",
    "    dict_train_features[c] = train_features\n",
    "    print(dict_train_features[c].shape)\n",
    "    \n",
    "print(mfcc.shape)"
   ]
  },
  {
   "cell_type": "code",
   "execution_count": 4,
   "metadata": {},
   "outputs": [
    {
     "data": {
      "text/plain": [
       "1293"
      ]
     },
     "execution_count": 4,
     "metadata": {},
     "output_type": "execute_result"
    }
   ],
   "source": [
    "mfcc.shape[1]"
   ]
  },
  {
   "cell_type": "code",
   "execution_count": 5,
   "metadata": {},
   "outputs": [
    {
     "data": {
      "text/plain": [
       "(20, 49)"
      ]
     },
     "execution_count": 5,
     "metadata": {},
     "output_type": "execute_result"
    }
   ],
   "source": [
    "dict_train_features['rock'].shape"
   ]
  },
  {
   "cell_type": "markdown",
   "metadata": {},
   "source": [
    "### Compute test features"
   ]
  },
  {
   "cell_type": "code",
   "execution_count": 6,
   "metadata": {},
   "outputs": [
    {
     "name": "stdout",
     "output_type": "stream",
     "text": [
      "(80, 49)\n",
      "(80, 49)\n",
      "(80, 49)\n",
      "(80, 49)\n"
     ]
    }
   ],
   "source": [
    "#the syntax for test files is pretty the same. \n",
    "dict_test_features = {'rock': [], 'pop': [], 'reggae': [], 'disco': []}\n",
    "\n",
    "for c in classes:\n",
    "    test_root = 'C:/Users/Claudio/Desktop/PreProcessed/{}/test/'.format(c)\n",
    "    class_test_files = [f for f in os.listdir(test_root) if f.endswith('.mp3')]\n",
    "    n_test_samples = len(class_test_files)\n",
    "    \n",
    "    test_features = np.zeros((n_test_samples, 49))\n",
    "    #elaboration of features for the test set
    "    for index, f in enumerate(class_test_files):\n",
    "        audio, fs = librosa.load(os.path.join(test_root, f), sr=None)\n",
    "        mfcc = compute_mfcc(audio, fs, n_mfcc)\n",
    "        mfcc_mean = np.mean(mfcc, axis = 1)\n",
    "        chroma = librosa.feature.chroma_stft(audio, fs)\n",
    "        chroma_mean = np.mean(chroma, axis = 1)\n",
    "        spec_roll = librosa.feature.spectral_rolloff(audio, fs)\n",
    "        spec_roll_mean = np.mean(spec_roll, axis = 1)\n",
    "        spec_centr = librosa.feature.spectral_centroid(audio, fs)\n",
    "        spec_centr_mean = np.mean(spec_centr, axis = 1)\n",
    "        test_features[index, :] = np.concatenate((mfcc_mean, chroma_mean, spec_roll_mean, spec_centr_mean), axis = 0)\n",
    "    dict_test_features[c] = test_features\n",
    "    print(dict_test_features[c].shape)"
   ]
  },
  {
   "cell_type": "markdown",
   "metadata": {},
   "source": [
    "### Feature visualization"
   ]
  },
  {
   "cell_type": "code",
   "execution_count": 7,
   "metadata": {
    "scrolled": false
   },
   "outputs": [
    {
     "data": {
      "image/png": "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\n",
      "text/plain": [
       "<Figure size 1152x432 with 3 Axes>"
      ]
     },
     "metadata": {
      "needs_background": "light"
     },
     "output_type": "display_data"
    },
    {
     "data": {
      "image/png": "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\n",
      "text/plain": [
       "<Figure size 1152x432 with 3 Axes>"
      ]
     },
     "metadata": {
      "needs_background": "light"
     },
     "output_type": "display_data"
    },
    {
     "data": {
      "image/png": "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\n",
      "text/plain": [
       "<Figure size 1152x432 with 3 Axes>"
      ]
     },
     "metadata": {
      "needs_background": "light"
     },
     "output_type": "display_data"
    },
    {
     "data": {
      "image/png": "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\n",
      "text/plain": [
       "<Figure size 1152x432 with 3 Axes>"
      ]
     },
     "metadata": {
      "needs_background": "light"
     },
     "output_type": "display_data"
    }
   ],
   "source": [
    "for c in classes:\n",
    "    mfcc = dict_train_features[c].transpose()\n",
    "    # Visualization\n",
    "    fig = plt.figure(figsize=(16, 6))\n",
    "    plt.subplot(1,2,1)\n",
    "    plt.imshow(mfcc, origin='lower', aspect='auto')\n",
    "    plt.xlabel('Training samples')\n",
    "    plt.ylabel('MFCC coefficients')\n",
    "    plt.title('MFCC (coefficients 0 to 13) for class {}'.format(c))\n",
    "    plt.colorbar()\n",
    "    plt.tight_layout()\n",
    "\n",
    "    mfcc_upper = mfcc[4:]\n",
    "    plt.subplot(1,2,2)\n",
    "    plt.imshow(mfcc_upper, origin='lower', aspect='auto')\n",
    "    plt.title('MFCC (coefficients 4 to 13) for class {}'.format(c))\n",
    "    plt.xlabel('Training samples')\n",
    "    plt.ylabel('MFCC coefficients')\n",
    "    plt.colorbar()\n",
    "    plt.tight_layout()"
   ]
  },
  {
   "cell_type": "markdown",
   "metadata": {},
   "source": [
    "# SVM: multiclass case"
    "# we need a classification for 4 classes, that means 6 SVMs
   ]
  },
  {
   "cell_type": "code",
   "execution_count": 8,
   "metadata": {},
   "outputs": [],
   "source": [
    "class_0 = 'rock'\n",
    "class_1 = 'pop'\n",
    "class_2 = 'reggae'\n",
    "class_3 = 'disco'\n",
    "\n",
    "X_train_0 = dict_train_features[class_0]\n",
    "X_train_1 = dict_train_features[class_1]\n",
    "X_train_2 = dict_train_features[class_2]\n",
    "X_train_3 = dict_train_features[class_3]\n",
    "\n",
    "y_train_0 = np.zeros((X_train_0.shape[0],))\n",
    "y_train_1 = np.ones((X_train_1.shape[0],))\n",
    "y_train_2 = np.ones((X_train_2.shape[0],))*2\n",
    "y_train_3 = np.ones((X_train_3.shape[0],))*3\n",
    "\n",
    "#y_train = np.concatenate((y_train_class_0, y_train_class_1, y_train_class_1), axis=0) \n"
   ]
  },
  {
   "cell_type": "code",
   "execution_count": 9,
   "metadata": {},
   "outputs": [],
   "source": [
    "X_test_0 = dict_test_features[class_0]\n",
    "X_test_1 = dict_test_features[class_1]\n",
    "X_test_2 = dict_test_features[class_2]\n",
    "X_test_3 = dict_test_features[class_3]\n",
    "\n",
    "\n",
    "y_test_0 = np.zeros((X_test_0.shape[0],))\n",
    "y_test_1 = np.ones((X_test_1.shape[0],))\n",
    "y_test_2 = np.ones((X_test_2.shape[0],))*2\n",
    "y_test_3 = np.ones((X_test_1.shape[0],))*3\n",
    "\n",
    "y_test_mc = np.concatenate((y_test_0, y_test_1, y_test_2, y_test_3), axis=0)\n"
   ]
  },
  {
   "cell_type": "code",
   "execution_count": null,
   "metadata": {},
   "outputs": [],
   "source": []
  },
  {
   "cell_type": "markdown",
   "metadata": {},
   "source": [
    "### Normalize features"
   ]
  },
  {
   "cell_type": "code",
   "execution_count": 10,
   "metadata": {},
   "outputs": [],
   "source": [
    "feat_max = np.max(np.concatenate((X_train_0, X_train_1, X_train_2, X_train_3), axis=0), axis=0)\n",
    "feat_min = np.min(np.concatenate((X_train_0, X_train_1, X_train_2, X_train_3), axis=0), axis=0)\n",
    "\n",
    "X_train_0_normalized = (X_train_0 - feat_min) / (feat_max - feat_min)\n",
    "X_train_1_normalized = (X_train_1 - feat_min) / (feat_max - feat_min)\n",
    "X_train_2_normalized = (X_train_2 - feat_min) / (feat_max - feat_min)\n",
    "X_train_3_normalized = (X_train_3 - feat_min) / (feat_max - feat_min)\n",
    "\n",
    "X_test_0_normalized = (X_test_0 - feat_min) / (feat_max - feat_min)\n",
    "X_test_1_normalized = (X_test_1 - feat_min) / (feat_max - feat_min)\n",
    "X_test_2_normalized = (X_test_2 - feat_min) / (feat_max - feat_min) #we concatenate to obtain max/min\n",
    "X_test_3_normalized = (X_test_3 - feat_min) / (feat_max - feat_min)\n",
    "\n",
    "X_test_mc_normalized = np.concatenate((X_test_0_normalized, X_test_1_normalized, X_test_2_normalized, X_test_3_normalized), axis=0)\n"
   ]
  },
  {
   "cell_type": "markdown",
   "metadata": {},
   "source": [
    "### Define and train a model for each couple of classes"
   ]
  },
  {
   "cell_type": "code",
   "execution_count": 11,
   "metadata": {},
   "outputs": [],
   "source": [
    "SVM_parameters={\n",
    "    'C': 1,\n",
    "    'kernel': 'rbf',\n",
    "}\n",
    "\n",
    "clf_01 = sklearn.svm.SVC(**SVM_parameters, probability=True)\n",
    "clf_02 = sklearn.svm.SVC(**SVM_parameters, probability=True)\n",
    "clf_03 = sklearn.svm.SVC(**SVM_parameters, probability=True)\n",
    "\n",
    "clf_12 = sklearn.svm.SVC(**SVM_parameters, probability=True)\n",
    "clf_13 = sklearn.svm.SVC(**SVM_parameters, probability=True)\n",
    "\n",
    "clf_23 = sklearn.svm.SVC(**SVM_parameters, probability=True)\n"
   ]
  },
  {
   "cell_type": "code",
   "execution_count": 12,
   "metadata": {},
   "outputs": [
    {
     "data": {
      "text/plain": [
       "SVC(C=1, probability=True)"
      ]
     },
     "execution_count": 12,
     "metadata": {},
     "output_type": "execute_result"
    }
   ],
   "source": [
    "clf_01.fit(np.concatenate((X_train_0_normalized, X_train_1_normalized), axis=0), \n",
    "           np.concatenate((y_train_0, y_train_1), axis=0))\n",
    "           \n",
    "clf_02.fit(np.concatenate((X_train_0_normalized, X_train_2_normalized), axis=0), \n",
    "           np.concatenate((y_train_0, y_train_2), axis=0))\n",
    "\n",
    "clf_03.fit(np.concatenate((X_train_0_normalized, X_train_3_normalized), axis=0), \n",
    "           np.concatenate((y_train_0, y_train_3), axis=0))\n",
    "\n",
    "\n",
    "clf_12.fit(np.concatenate((X_train_1_normalized, X_train_2_normalized), axis=0), \n",
    "           np.concatenate((y_train_1, y_train_2), axis=0)) \n",
    "\n",
    "clf_13.fit(np.concatenate((X_train_1_normalized, X_train_3_normalized), axis=0), \n",
    "           np.concatenate((y_train_1, y_train_3), axis=0)) \n",
    "\n",
    "\n",
    "clf_23.fit(np.concatenate((X_train_2_normalized, X_train_3_normalized), axis=0), \n",
    "           np.concatenate((y_train_2, y_train_3), axis=0)) \n",
    "#now we have a tree of model."
   ]
  },
  {
   "cell_type": "markdown",
   "metadata": {},
   "source": [
    "### Evaluate each classifier"
   ]
  },
  {
   "cell_type": "code",
   "execution_count": 13,
   "metadata": {},
   "outputs": [],
   "source": [
    "#now we predict test on label. They're all binary classifiers. We have 3 prediction and we must extract the most present.\n",
    "y_test_predicted_01 = clf_01.predict(X_test_mc_normalized).reshape(-1, 1)\n",
    "y_test_predicted_02 = clf_02.predict(X_test_mc_normalized).reshape(-1, 1)\n",
    "y_test_predicted_03 = clf_03.predict(X_test_mc_normalized).reshape(-1, 1)\n",
    "\n",
    "y_test_predicted_12 = clf_12.predict(X_test_mc_normalized).reshape(-1, 1)\n",
    "y_test_predicted_13 = clf_13.predict(X_test_mc_normalized).reshape(-1, 1)\n",
    "\n",
    "y_test_predicted_23 = clf_23.predict(X_test_mc_normalized).reshape(-1, 1)\n"
   ]
  },
  {
   "cell_type": "code",
   "execution_count": null,
   "metadata": {},
   "outputs": [],
   "source": []
  },
  {
   "cell_type": "markdown",
   "metadata": {},
   "source": [
    "### Majority voting"
   ]
  },
  {
   "cell_type": "code",
   "execution_count": 14,
   "metadata": {},
   "outputs": [],
   "source": [
    "y_test_predicted_mc = np.concatenate((y_test_predicted_01, y_test_predicted_02, y_test_predicted_03, y_test_predicted_12, y_test_predicted_13, y_test_predicted_23 ), axis=1)\n",
    "y_test_predicted_mc = np.array(y_test_predicted_mc, dtype=np.int)"
   ]
  },
  {
   "cell_type": "code",
   "execution_count": 15,
   "metadata": {},
   "outputs": [
    {
     "data": {
      "text/plain": [
       "array([[0, 0, 3, 2, 3, 3],\n",
       "       [0, 0, 0, 2, 3, 3],\n",
       "       [1, 0, 3, 1, 3, 3],\n",
       "       ...,\n",
       "       [1, 0, 3, 1, 1, 3],\n",
       "       [0, 2, 3, 2, 3, 2],\n",
       "       [0, 2, 3, 2, 3, 2]])"
      ]
     },
     "execution_count": 15,
     "metadata": {},
     "output_type": "execute_result"
    }
   ],
   "source": [
    "y_test_predicted_mc"
   ]
  },
  {
   "cell_type": "code",
   "execution_count": 16,
   "metadata": {},
   "outputs": [],
   "source": [
    "y_test_predicted_mv = np.zeros((y_test_predicted_mc.shape[0],))\n",
    "for i, e in enumerate(y_test_predicted_mc):\n",
    "    y_test_predicted_mv[i] = np.bincount(e).argmax() "
   ]
  },
  {
   "cell_type": "code",
   "execution_count": null,
   "metadata": {},
   "outputs": [],
   "source": []
  },
  {
   "cell_type": "markdown",
   "metadata": {},
   "source": [
    "##Compute confusion matrix for multiclass"
   ]
  },
  {
   "cell_type": "code",
   "execution_count": 17,
   "metadata": {},
   "outputs": [],
   "source": [
    "#we fill the matrix for each sample\n",
    "def compute_cm_multiclass(gt, predicted):\n",
    "    classes = np.unique(gt)\n",
    "    \n",
    "    CM = np.zeros((len(classes), len(classes)))\n",
    "    \n",
    "    for i in np.arange(len(classes)):\n",
    "        pred_class = predicted[gt==i]\n",
    "        \n",
    "        for j in np.arange(len(pred_class)): #the element in position\"label\" and the element in predicted class \n",
    "            CM[i, int(pred_class[j])] = CM[i, int(pred_class[j])] + 1 \n",
    "    print(CM)"
   ]
  },
  {
   "cell_type": "code",
   "execution_count": 18,
   "metadata": {},
   "outputs": [
    {
     "name": "stdout",
     "output_type": "stream",
     "text": [
      "[[32. 15.  7. 26.]\n",
      " [ 2. 55.  4. 19.]\n",
      " [36. 12. 14. 18.]\n",
      " [11. 25.  6. 38.]]\n"
     ]
    }
   ],
   "source": [
    "compute_cm_multiclass(y_test_mc, y_test_predicted_mv)"
   ]
  },
  {
   "cell_type": "code",
   "execution_count": null,
   "metadata": {},
   "outputs": [],
   "source": []
  },
  {
   "cell_type": "code",
   "execution_count": null,
   "metadata": {},
   "outputs": [],
   "source": []
  },
  {
   "cell_type": "code",
   "execution_count": null,
   "metadata": {},
   "outputs": [],
   "source": []
  }
 ],
 "metadata": {
  "kernelspec": {
   "display_name": "Python 3",
   "language": "python",
   "name": "python3"
  },
  "language_info": {
   "codemirror_mode": {
    "name": "ipython",
    "version": 3
   },
   "file_extension": ".py",
   "mimetype": "text/x-python",
   "name": "python",
   "nbconvert_exporter": "python",
   "pygments_lexer": "ipython3",
   "version": "3.8.5"
  }
 },
 "nbformat": 4,
 "nbformat_minor": 4
}
